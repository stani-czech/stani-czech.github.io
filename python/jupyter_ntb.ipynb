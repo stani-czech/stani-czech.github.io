{
 "cells": [
  {
   "cell_type": "code",
   "execution_count": 1,
   "id": "c1ccc169",
   "metadata": {},
   "outputs": [
    {
     "name": "stdout",
     "output_type": "stream",
     "text": [
      "Hello StaniCZECH\n"
     ]
    }
   ],
   "source": [
    "print(\"Hello StaniCZECH\")"
   ]
  },
  {
   "cell_type": "code",
   "execution_count": 2,
   "id": "ab27ea42",
   "metadata": {},
   "outputs": [],
   "source": [
    "def random_name_generator (numOfNames:int) -> list:\n",
    "    import random\n",
    "    surnames = [\"Smith\", \"Johnson\", \"Williams\", \"Jones\", \"Brown\"]\n",
    "    first_names = [\"James\", \"Mary\", \"John\", \"Patricia\", \"Robert\"]\n",
    "    names = []\n",
    "    for i in range(numOfNames):\n",
    "        surname = random.choice(surnames)\n",
    "        first_name = random.choice(first_names)\n",
    "        names.append(f\"{first_name} {surname}\")\n",
    "    return names"
   ]
  },
  {
   "cell_type": "code",
   "execution_count": 3,
   "id": "6c09c496",
   "metadata": {},
   "outputs": [
    {
     "data": {
      "text/plain": [
       "['Robert Smith',\n",
       " 'Robert Johnson',\n",
       " 'Patricia Johnson',\n",
       " 'John Johnson',\n",
       " 'Robert Smith']"
      ]
     },
     "execution_count": 3,
     "metadata": {},
     "output_type": "execute_result"
    }
   ],
   "source": [
    "random_name_generator(5)"
   ]
  },
  {
   "cell_type": "code",
   "execution_count": null,
   "id": "c8186588",
   "metadata": {},
   "outputs": [
    {
     "data": {
      "text/html": [
       "<div>\n",
       "<style scoped>\n",
       "    .dataframe tbody tr th:only-of-type {\n",
       "        vertical-align: middle;\n",
       "    }\n",
       "\n",
       "    .dataframe tbody tr th {\n",
       "        vertical-align: top;\n",
       "    }\n",
       "\n",
       "    .dataframe thead th {\n",
       "        text-align: right;\n",
       "    }\n",
       "</style>\n",
       "<table border=\"1\" class=\"dataframe\">\n",
       "  <thead>\n",
       "    <tr style=\"text-align: right;\">\n",
       "      <th></th>\n",
       "      <th>Name</th>\n",
       "    </tr>\n",
       "  </thead>\n",
       "  <tbody>\n",
       "    <tr>\n",
       "      <th>0</th>\n",
       "      <td>James Jones</td>\n",
       "    </tr>\n",
       "    <tr>\n",
       "      <th>1</th>\n",
       "      <td>Robert Smith</td>\n",
       "    </tr>\n",
       "    <tr>\n",
       "      <th>2</th>\n",
       "      <td>Mary Smith</td>\n",
       "    </tr>\n",
       "    <tr>\n",
       "      <th>3</th>\n",
       "      <td>John Williams</td>\n",
       "    </tr>\n",
       "    <tr>\n",
       "      <th>4</th>\n",
       "      <td>Mary Brown</td>\n",
       "    </tr>\n",
       "  </tbody>\n",
       "</table>\n",
       "</div>"
      ],
      "text/plain": [
       "            Name\n",
       "0    James Jones\n",
       "1   Robert Smith\n",
       "2     Mary Smith\n",
       "3  John Williams\n",
       "4     Mary Brown"
      ]
     },
     "execution_count": 4,
     "metadata": {},
     "output_type": "execute_result"
    }
   ],
   "source": [
    "import pandas as pd\n",
    "\n",
    "pd.DataFrame(random_name_generator(5), columns=[\"Name\"])"
   ]
  },
  {
   "cell_type": "code",
   "execution_count": null,
   "id": "ad1217af",
   "metadata": {},
   "outputs": [],
   "source": []
  }
 ],
 "metadata": {
  "kernelspec": {
   "display_name": "Python 3",
   "language": "python",
   "name": "python3"
  },
  "language_info": {
   "codemirror_mode": {
    "name": "ipython",
    "version": 3
   },
   "file_extension": ".py",
   "mimetype": "text/x-python",
   "name": "python",
   "nbconvert_exporter": "python",
   "pygments_lexer": "ipython3",
   "version": "3.12.1"
  }
 },
 "nbformat": 4,
 "nbformat_minor": 5
}
