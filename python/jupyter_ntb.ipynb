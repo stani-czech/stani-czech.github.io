{
 "cells": [
  {
   "cell_type": "code",
   "execution_count": 1,
   "id": "c1ccc169",
   "metadata": {},
   "outputs": [
    {
     "name": "stdout",
     "output_type": "stream",
     "text": [
      "Hello StaniCZECH\n"
     ]
    }
   ],
   "source": [
    "print(\"Hello StaniCZECH\")"
   ]
  },
  {
   "cell_type": "code",
   "execution_count": 4,
   "id": "ab27ea42",
   "metadata": {},
   "outputs": [],
   "source": [
    "def random_name_generator (numOfNames:int) -> list:\n",
    "    import random\n",
    "    surnames = [\"Smith\", \"Johnson\", \"Williams\", \"Jones\", \"Brown\"]\n",
    "    first_names = [\"James\", \"Mary\", \"John\", \"Patricia\", \"Robert\"]\n",
    "    names = []\n",
    "    for i in range(numOfNames):\n",
    "        surname = random.choice(surnames)\n",
    "        first_name = random.choice(first_names)\n",
    "        names.append(f\"{first_name} {surname}\")\n",
    "    return names"
   ]
  },
  {
   "cell_type": "code",
   "execution_count": 6,
   "id": "6c09c496",
   "metadata": {},
   "outputs": [
    {
     "data": {
      "text/plain": [
       "['Mary Jones', 'Patricia Jones', 'John Smith', 'Robert Smith', 'James Johnson']"
      ]
     },
     "execution_count": 6,
     "metadata": {},
     "output_type": "execute_result"
    }
   ],
   "source": [
    "random_name_generator(5)"
   ]
  },
  {
   "cell_type": "code",
   "execution_count": null,
   "id": "c8186588",
   "metadata": {},
   "outputs": [],
   "source": []
  }
 ],
 "metadata": {
  "kernelspec": {
   "display_name": "Python 3",
   "language": "python",
   "name": "python3"
  },
  "language_info": {
   "codemirror_mode": {
    "name": "ipython",
    "version": 3
   },
   "file_extension": ".py",
   "mimetype": "text/x-python",
   "name": "python",
   "nbconvert_exporter": "python",
   "pygments_lexer": "ipython3",
   "version": "3.12.1"
  }
 },
 "nbformat": 4,
 "nbformat_minor": 5
}
